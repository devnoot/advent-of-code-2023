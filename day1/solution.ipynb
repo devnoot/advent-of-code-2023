{
 "cells": [
  {
   "cell_type": "markdown",
   "id": "d12700d04e782e19",
   "metadata": {
    "collapsed": false,
    "jupyter": {
     "outputs_hidden": false
    }
   },
   "source": [
    "# --- Day 1: Trebuchet?! ---\n",
    "\n",
    "Something is wrong with global snow production, and you've been selected to take a look. The Elves have even given you a map; on it, they've used stars to mark the top fifty locations that are likely to be having problems.\n",
    "\n",
    "You've been doing this long enough to know that to restore snow operations, you need to check all fifty stars by December 25th.\n",
    "\n",
    "Collect stars by solving puzzles. Two puzzles will be made available on each day in the Advent calendar; the second puzzle is unlocked when you complete the first. Each puzzle grants one star. Good luck!\n",
    "\n",
    "You try to ask why they can't just use a weather machine (\"not powerful enough\") and where they're even sending you (\"the sky\") and why your map looks mostly blank (\"you sure ask a lot of questions\") and hang on did you just say the sky (\"of course, where do you think snow comes from\") when you realize that the Elves are already loading you into a trebuchet (\"please hold still, we need to strap you in\").\n",
    "\n",
    "As they're making the final adjustments, they discover that their calibration document (your puzzle input) has been amended by a very young Elf who was apparently just excited to show off her art skills. Consequently, the Elves are having trouble reading the values on the document.\n",
    "\n",
    "The newly-improved calibration document consists of lines of text; each line originally contained a specific calibration value that the Elves now need to recover. On each line, the calibration value can be found by combining the first digit and the last digit (in that order) to form a single two-digit number.\n",
    "\n",
    "For example:\n",
    "\n",
    "`1abc2`\n",
    "`pqr3stu8vwx`\n",
    "`a1b2c3d4e5f`\n",
    "`treb7uchet`\n",
    "\n",
    "In this example, the calibration values of these four lines are 12, 38, 15, and 77. Adding these together produces 142.\n",
    "\n",
    "Consider your entire calibration document. What is the sum of all of the calibration values?\n",
    "\n",
    "Your puzzle answer was `54708`.\n",
    "\n",
    "The first half of this puzzle is complete! It provides one gold star: *\n",
    "\n"
   ]
  },
  {
   "cell_type": "code",
   "execution_count": 33,
   "id": "efb0b66b4bbe3aa8",
   "metadata": {
    "ExecuteTime": {
     "end_time": "2023-12-21T02:33:42.235697611Z",
     "start_time": "2023-12-21T02:33:42.232080622Z"
    },
    "collapsed": false,
    "jupyter": {
     "outputs_hidden": false
    }
   },
   "outputs": [],
   "source": [
    "# Imports\n",
    "import re"
   ]
  },
  {
   "cell_type": "code",
   "execution_count": 34,
   "id": "9a57d52c0ae89954",
   "metadata": {
    "ExecuteTime": {
     "end_time": "2023-12-21T02:33:42.810616703Z",
     "start_time": "2023-12-21T02:33:42.805840841Z"
    },
    "collapsed": false,
    "jupyter": {
     "outputs_hidden": false
    }
   },
   "outputs": [],
   "source": [
    "# Constants \n",
    "SAMPLES = [\n",
    "    'two1nine',\n",
    "    'eightwothree',\n",
    "    'abcone2threexyz',\n",
    "    'xtwone3four',\n",
    "    '4nineeightseven2',\n",
    "    'zoneight234',\n",
    "    '7pqrstsixteen'\n",
    "]\n",
    "\n",
    "VALIDENTRIES = ['1', '2', '3', '4', '5', '6', '7', '8', '9', 'one', 'two', 'three', 'four', 'five', 'six', 'seven', 'eight', 'nine']\n",
    "\n",
    "NUMMAP = {\n",
    "    'one': 1,\n",
    "    'two': 2,\n",
    "    'three': 3,\n",
    "    'four': 4,\n",
    "    'five': 5,\n",
    "    'six': 6,\n",
    "    'seven': 7,\n",
    "    'eight': 8,\n",
    "    'nine': 9\n",
    "}"
   ]
  },
  {
   "cell_type": "code",
   "execution_count": 35,
   "id": "49ee8d3240c125ef",
   "metadata": {
    "ExecuteTime": {
     "end_time": "2023-12-21T02:33:43.359089780Z",
     "start_time": "2023-12-21T02:33:43.344864002Z"
    },
    "collapsed": false,
    "jupyter": {
     "outputs_hidden": false
    }
   },
   "outputs": [],
   "source": [
    "def solvePart1(contents):\n",
    "\n",
    "    def getFirstLastFromString(str):\n",
    "        firstLast = []\n",
    "        onlyNumbers = [int(c) for c in re.findall(r'\\d', str)]\n",
    "        if len(onlyNumbers) == 1:\n",
    "            firstLast.extend([onlyNumbers[0], onlyNumbers[0]])\n",
    "        else:\n",
    "            firstLast.extend([onlyNumbers[0], onlyNumbers[-1]])\n",
    "        return firstLast\n",
    "\n",
    "\n",
    "    def getCalibrationValueFromString(str):\n",
    "        first, last = getFirstLastFromString(str)\n",
    "        return int(f'{first}{last}')\n",
    "\n",
    "\n",
    "    def processInputs(arr):\n",
    "        calibrationValues = []\n",
    "        for i in arr:\n",
    "            calibrationValue = getCalibrationValueFromString(i)\n",
    "            calibrationValues.append(calibrationValue)\n",
    "        return calibrationValues\n",
    "    \n",
    "    calibrationValues = processInputs(contents)\n",
    "    solution = sum(calibrationValues)\n",
    "    print('')\n",
    "    print(f'The solution is {solution}')\n",
    "        "
   ]
  },
  {
   "cell_type": "code",
   "execution_count": 36,
   "id": "8aa09430e5be0376",
   "metadata": {
    "ExecuteTime": {
     "end_time": "2023-12-21T02:33:44.005117Z",
     "start_time": "2023-12-21T02:33:43.976041033Z"
    },
    "collapsed": false,
    "jupyter": {
     "outputs_hidden": false
    }
   },
   "outputs": [
    {
     "name": "stdout",
     "output_type": "stream",
     "text": [
      "\n",
      "The solution is 54708\n"
     ]
    }
   ],
   "source": [
    "with open('input.txt', 'r') as file:\n",
    "    contents = file.read().split('\\n')\n",
    "    solvePart1(contents)\n",
    "    file.close()"
   ]
  },
  {
   "cell_type": "markdown",
   "id": "ff198cad869f4aab",
   "metadata": {
    "collapsed": false,
    "jupyter": {
     "outputs_hidden": false
    }
   },
   "source": [
    "## --- Part Two ---\n",
    "\n",
    "Your calculation isn't quite right. It looks like some of the digits are actually spelled out with letters: one, two, three, four, five, six, seven, eight, and nine also count as valid \"digits\".\n",
    "\n",
    "Equipped with this new information, you now need to find the real first and last digit on each line. For example:\n",
    "\n",
    "`two1nine`\n",
    "`eightwothree`\n",
    "`abcone2threexyz`\n",
    "`xtwone3four`\n",
    "`4nineeightseven2`\n",
    "`zoneight234`\n",
    "`7pqrstsixteen`\n",
    "\n",
    "In this example, the calibration values are 29, 83, 13, 24, 42, 14, and 76. Adding these together produces 281.\n",
    "\n",
    "What is the sum of all of the calibration values?\n"
   ]
  },
  {
   "cell_type": "code",
   "execution_count": 37,
   "id": "93abb9a73dce850c",
   "metadata": {
    "ExecuteTime": {
     "end_time": "2023-12-21T02:33:45.174072794Z",
     "start_time": "2023-12-21T02:33:45.162948716Z"
    },
    "collapsed": false,
    "jupyter": {
     "outputs_hidden": false
    }
   },
   "outputs": [],
   "source": [
    "def getCalibrationValue(line, validEntries):\n",
    "    \n",
    "    found = []\n",
    "    \n",
    "    firstMatch = None\n",
    "    lastMatch = None\n",
    "    \n",
    "    for entry in validEntries:\n",
    "        for match in re.finditer(entry, line):\n",
    "            found.append(match)\n",
    "            \n",
    "    index = 0\n",
    "    for match in found:\n",
    "        \n",
    "        # Find the match with the lowest match.start() \n",
    "        if firstMatch is None:\n",
    "            firstMatch = match\n",
    "        elif match.start() < firstMatch.start():\n",
    "            firstMatch = match\n",
    "            \n",
    "        # Find the match with the largest match.end()\n",
    "        if lastMatch is None:\n",
    "            lastMatch = match\n",
    "        elif match.end() > lastMatch.end():\n",
    "            lastMatch = match\n",
    "        \n",
    "        index = index + 1\n",
    "        \n",
    "    if not firstMatch[0].isdigit():\n",
    "        first = NUMMAP[firstMatch[0]]\n",
    "    else:\n",
    "        first = firstMatch[0]\n",
    "        \n",
    "    if not lastMatch[0].isdigit():\n",
    "        last = NUMMAP[lastMatch[0]]\n",
    "    else:\n",
    "        last = lastMatch[0]\n",
    "        \n",
    "    return int(f'{first}{last}')\n",
    "        "
   ]
  },
  {
   "cell_type": "code",
   "execution_count": 38,
   "id": "5294bf32ed81466e",
   "metadata": {
    "ExecuteTime": {
     "end_time": "2023-12-21T02:33:45.832268041Z",
     "start_time": "2023-12-21T02:33:45.824517132Z"
    },
    "collapsed": false,
    "jupyter": {
     "outputs_hidden": false
    }
   },
   "outputs": [
    {
     "name": "stdout",
     "output_type": "stream",
     "text": [
      "29 two1nine\n",
      "83 eightwothree\n",
      "13 abcone2threexyz\n",
      "24 xtwone3four\n",
      "42 4nineeightseven2\n",
      "14 zoneight234\n",
      "76 7pqrstsixteen\n"
     ]
    },
    {
     "data": {
      "text/plain": [
       "281"
      ]
     },
     "execution_count": 38,
     "metadata": {},
     "output_type": "execute_result"
    }
   ],
   "source": [
    "calibrationValues = []\n",
    "\n",
    "for sample in SAMPLES:\n",
    "    calibration = getCalibrationValue(sample, VALIDENTRIES)\n",
    "    calibrationValues.append(calibration)\n",
    "    print(f'{calibration} {sample}')\n",
    "    \n",
    "sum(calibrationValues)"
   ]
  },
  {
   "cell_type": "code",
   "execution_count": 40,
   "id": "bfad3340cc9a6cb5",
   "metadata": {
    "ExecuteTime": {
     "end_time": "2023-12-21T02:34:27.311186033Z",
     "start_time": "2023-12-21T02:34:27.242747448Z"
    },
    "collapsed": false,
    "jupyter": {
     "outputs_hidden": false
    }
   },
   "outputs": [
    {
     "name": "stdout",
     "output_type": "stream",
     "text": [
      "The solution to part 2 is 54087\n"
     ]
    }
   ],
   "source": [
    "# Solve for the provided input file\n",
    "with open('input.txt', 'r') as file:\n",
    "    calibrationValues = []\n",
    "    contents = file.read().split('\\n')\n",
    "    for line in contents:\n",
    "        calibration = getCalibrationValue(line, VALIDENTRIES)\n",
    "        calibrationValues.append(calibration)\n",
    "    answer = sum(calibrationValues)\n",
    "    print(f'The solution to part 2 is {answer}')"
   ]
  },
  {
   "cell_type": "code",
   "execution_count": null,
   "id": "9261a3c5e631fabf",
   "metadata": {
    "collapsed": false,
    "jupyter": {
     "outputs_hidden": false
    }
   },
   "outputs": [],
   "source": []
  }
 ],
 "metadata": {
  "kernelspec": {
   "display_name": "Python 3 (ipykernel)",
   "language": "python",
   "name": "python3"
  },
  "language_info": {
   "codemirror_mode": {
    "name": "ipython",
    "version": 3
   },
   "file_extension": ".py",
   "mimetype": "text/x-python",
   "name": "python",
   "nbconvert_exporter": "python",
   "pygments_lexer": "ipython3",
   "version": "3.11.6"
  }
 },
 "nbformat": 4,
 "nbformat_minor": 5
}
