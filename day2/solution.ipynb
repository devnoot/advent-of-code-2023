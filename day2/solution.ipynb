{
 "cells": [
  {
   "cell_type": "markdown",
   "id": "1e2b53d5-67e2-454a-b225-d75780ef928a",
   "metadata": {},
   "source": [
    "# Day 2: Cube Conundrum\n",
    "\n",
    "You're launched high into the atmosphere! The apex of your trajectory just barely reaches the surface of a large island floating in the sky. You gently land in a fluffy pile of leaves. It's quite cold, but you don't see much snow. An Elf runs over to greet you.\n",
    "\n",
    "The Elf explains that you've arrived at Snow Island and apologizes for the lack of snow. He'll be happy to explain the situation, but it's a bit of a walk, so you have some time. They don't get many visitors up here; would you like to play a game in the meantime?\n",
    "\n",
    "As you walk, the Elf shows you a small bag and some cubes which are either red, green, or blue. Each time you play this game, he will hide a secret number of cubes of each color in the bag, and your goal is to figure out information about the number of cubes.\n",
    "\n",
    "To get information, once a bag has been loaded with cubes, the Elf will reach into the bag, grab a handful of random cubes, show them to you, and then put them back in the bag. He'll do this a few times per game.\n",
    "\n",
    "You play several games and record the information from each game (your puzzle input). Each game is listed with its ID number (like the 11 in Game 11: ...) followed by a semicolon-separated list of subsets of cubes that were revealed from the bag (like 3 red, 5 green, 4 blue).\n",
    "\n",
    "For example, the record of a few games might look like this:\n",
    "\n",
    "```\n",
    "Game 1: 3 blue, 4 red; 1 red, 2 green, 6 blue; 2 green\n",
    "Game 2: 1 blue, 2 green; 3 green, 4 blue, 1 red; 1 green, 1 blue\n",
    "Game 3: 8 green, 6 blue, 20 red; 5 blue, 4 red, 13 green; 5 green, 1 red\n",
    "Game 4: 1 green, 3 red, 6 blue; 3 green, 6 red; 3 green, 15 blue, 14 red\n",
    "Game 5: 6 red, 1 blue, 3 green; 2 blue, 1 red, 2 green\n",
    "```\n",
    "\n",
    "In game 1, three sets of cubes are revealed from the bag (and then put back again). The first set is 3 blue cubes and 4 red cubes; the second set is 1 red cube, 2 green cubes, and 6 blue cubes; the third set is only 2 green cubes.\n",
    "\n",
    "The Elf would first like to know which games would have been possible if the bag contained only 12 red cubes, 13 green cubes, and 14 blue cubes?\n",
    "\n",
    "In the example above, games 1, 2, and 5 would have been possible if the bag had been loaded with that configuration. However, game 3 would have been impossible because at one point the Elf showed you 20 red cubes at once; similarly, game 4 would also have been impossible because the Elf showed you 15 blue cubes at once. If you add up the IDs of the games that would have been possible, you get 8.\n",
    "\n",
    "**Determine which games would have been possible if the bag had been loaded with only 12 red cubes, 13 green cubes, and 14 blue cubes. What is the sum of the IDs of those games?**\n"
   ]
  },
  {
   "cell_type": "code",
   "execution_count": 1,
   "id": "53428de8-9c13-4cb1-a550-d9fc0679cf79",
   "metadata": {
    "execution": {
     "iopub.execute_input": "2023-12-21T04:51:00.133850Z",
     "iopub.status.busy": "2023-12-21T04:51:00.133454Z",
     "iopub.status.idle": "2023-12-21T04:51:00.142111Z",
     "shell.execute_reply": "2023-12-21T04:51:00.140616Z",
     "shell.execute_reply.started": "2023-12-21T04:51:00.133820Z"
    },
    "ExecuteTime": {
     "end_time": "2023-12-21T05:26:31.639978577Z",
     "start_time": "2023-12-21T05:26:31.623644739Z"
    }
   },
   "outputs": [],
   "source": [
    "def findImpossibleGames(games):\n",
    "    \"\"\" \n",
    "    Find the games possible if the bag contained only 12 red cubes,\n",
    "    13 green cubes, and 14 blue cubes\n",
    "\n",
    "    games is { 'gameKey': 'rounds': {'red': 0, 'green': 0, 'blue': 0}[] }\n",
    "\n",
    "    The answer should be games 1, 2, and 5\n",
    "    \"\"\"\n",
    "\n",
    "    rmax = 12\n",
    "    gmax = 13\n",
    "    bmax = 14\n",
    "\n",
    "    impossibleGames = []\n",
    "\n",
    "    for key, value in games.items():\n",
    "        for pull in value['rounds']:\n",
    "            if int(pull['red']) > rmax or int(pull['green']) > gmax or int(pull['blue']) > bmax:\n",
    "                impossibleGames.append(key)\n",
    "\n",
    "    return impossibleGames\n"
   ]
  },
  {
   "cell_type": "code",
   "execution_count": 2,
   "id": "324e82a3-574f-4a1c-bf83-123267d01719",
   "metadata": {
    "execution": {
     "iopub.execute_input": "2023-12-21T04:51:00.300036Z",
     "iopub.status.busy": "2023-12-21T04:51:00.299647Z",
     "iopub.status.idle": "2023-12-21T04:51:00.310090Z",
     "shell.execute_reply": "2023-12-21T04:51:00.308695Z",
     "shell.execute_reply.started": "2023-12-21T04:51:00.300005Z"
    },
    "scrolled": true,
    "ExecuteTime": {
     "end_time": "2023-12-21T05:26:48.348850102Z",
     "start_time": "2023-12-21T05:26:48.322999633Z"
    }
   },
   "outputs": [],
   "source": [
    "def parseInput(contents):\n",
    "    \"\"\"\n",
    "    Parse and transform the elf input data into a usable format\n",
    "    \"\"\"\n",
    "\n",
    "    games = {}\n",
    "\n",
    "    for line in contents:\n",
    "\n",
    "        line = line.strip()\n",
    "        split = line.split(':')\n",
    "        split[1] = split[1].split(';')\n",
    "        key = split[0].strip()\n",
    "\n",
    "        games[key] = { 'rounds': [] }\n",
    "\n",
    "        for rounds in split[1:]:\n",
    "            for round in rounds:\n",
    "                pull = { 'red': 0, 'green': 0, 'blue': 0 }\n",
    "                for cubes in round.split(','):\n",
    "                    cube = cubes.strip().split(' ')\n",
    "                    count = cube[0]\n",
    "                    color = cube[1]\n",
    "                    pull[color] = count\n",
    "                games[key]['rounds'].append(pull)\n",
    "\n",
    "    file.close()\n",
    "    return games"
   ]
  },
  {
   "cell_type": "code",
   "execution_count": 3,
   "id": "270f92a8-afb8-48e6-9458-b67b82d959f3",
   "metadata": {
    "execution": {
     "iopub.execute_input": "2023-12-21T05:02:56.708231Z",
     "iopub.status.busy": "2023-12-21T05:02:56.706797Z",
     "iopub.status.idle": "2023-12-21T05:02:56.717315Z",
     "shell.execute_reply": "2023-12-21T05:02:56.716333Z",
     "shell.execute_reply.started": "2023-12-21T05:02:56.708183Z"
    },
    "ExecuteTime": {
     "end_time": "2023-12-21T05:26:49.648772842Z",
     "start_time": "2023-12-21T05:26:49.627380002Z"
    }
   },
   "outputs": [
    {
     "name": "stdout",
     "output_type": "stream",
     "text": [
      "There sum of possible games is 2683\n"
     ]
    }
   ],
   "source": [
    "# Solve part 1\n",
    "with open('input.txt', 'r') as file:\n",
    "    games = parseInput(file)\n",
    "    impossibleGames = findImpossibleGames(games)\n",
    "    possibleGames = [k for k, v in games.items() if k not in impossibleGames]\n",
    "\n",
    "    ids = [int(game.replace('Game ', '')) for game in possibleGames]\n",
    "    solution = sum(ids)\n",
    "    print(f'There sum of possible games is {solution}')\n",
    "    file.close()"
   ]
  },
  {
   "cell_type": "markdown",
   "id": "de3dce20-fabe-4059-b599-b2dacb10593a",
   "metadata": {
    "execution": {
     "iopub.execute_input": "2023-12-21T05:03:16.461582Z",
     "iopub.status.busy": "2023-12-21T05:03:16.461193Z",
     "iopub.status.idle": "2023-12-21T05:03:16.482151Z",
     "shell.execute_reply": "2023-12-21T05:03:16.480977Z",
     "shell.execute_reply.started": "2023-12-21T05:03:16.461553Z"
    }
   },
   "source": [
    "## Part Two\n",
    "\n",
    "The Elf says they've stopped producing snow because they aren't getting any water! He isn't sure why the water stopped; however, he can show you how to get to the water source to check it out for yourself. It's just up ahead!\n",
    "\n",
    "As you continue your walk, the Elf poses a second question: in each game you played, what is the fewest number of cubes of each color that could have been in the bag to make the game possible?\n",
    "\n",
    "Again consider the example games from earlier:\n",
    "\n",
    "```\n",
    "Game 1: 3 blue, 4 red; 1 red, 2 green, 6 blue; 2 green\n",
    "Game 2: 1 blue, 2 green; 3 green, 4 blue, 1 red; 1 green, 1 blue\n",
    "Game 3: 8 green, 6 blue, 20 red; 5 blue, 4 red, 13 green; 5 green, 1 red\n",
    "Game 4: 1 green, 3 red, 6 blue; 3 green, 6 red; 3 green, 15 blue, 14 red\n",
    "Game 5: 6 red, 1 blue, 3 green; 2 blue, 1 red, 2 green\n",
    "```\n",
    "\n",
    "In game 1, the game could have been played with as few as 4 red, 2 green, and 6 blue cubes. If any color had even one fewer cube, the game would have been impossible.\n",
    "\n",
    "Game 2 could have been played with a minimum of 1 red, 3 green, and 4 blue cubes.\n",
    "\n",
    "Game 3 must have been played with at least 20 red, 13 green, and 6 blue cubes.\n",
    "\n",
    "Game 4 required at least 14 red, 3 green, and 15 blue cubes.\n",
    "\n",
    "Game 5 needed no fewer than 6 red, 3 green, and 2 blue cubes in the bag.\n",
    "\n",
    "The `power` of a set of cubes is equal to the numbers of red, green, and blue cubes multiplied together. The power of the minimum set of cubes in game 1 is `48`. In games 2-5 it was `12`, `1560`, `630`, and `36`, respectively. Adding up these five powers produces the sum `2286`.\n",
    "\n",
    "**For each game, find the minimum set of cubes that must have been present. What is the sum of the power of these sets?**\n"
   ]
  },
  {
   "cell_type": "code",
   "execution_count": 4,
   "id": "fbf7845b-c4d6-4d94-af05-8852b5d75b75",
   "metadata": {
    "execution": {
     "iopub.execute_input": "2023-12-21T05:21:50.763057Z",
     "iopub.status.busy": "2023-12-21T05:21:50.762618Z",
     "iopub.status.idle": "2023-12-21T05:21:50.775954Z",
     "shell.execute_reply": "2023-12-21T05:21:50.774953Z",
     "shell.execute_reply.started": "2023-12-21T05:21:50.763025Z"
    },
    "ExecuteTime": {
     "end_time": "2023-12-21T05:27:19.722541012Z",
     "start_time": "2023-12-21T05:27:19.681348570Z"
    }
   },
   "outputs": [
    {
     "name": "stdout",
     "output_type": "stream",
     "text": [
      "The sum of the power of the minimum set of cubes needed is 49710\n"
     ]
    }
   ],
   "source": [
    "def findMinCubeSet(game):\n",
    "\n",
    "    rmin = 0\n",
    "    bmin = 0\n",
    "    gmin= 0\n",
    "\n",
    "    for round in game['rounds']:\n",
    "\n",
    "        r = int(round['red'])\n",
    "        g = int(round['green'])\n",
    "        b = int(round['blue'])\n",
    "\n",
    "        if r >= rmin:\n",
    "            rmin = r\n",
    "        if g >= gmin:\n",
    "            gmin = g\n",
    "        if b >= bmin:\n",
    "            bmin = b\n",
    "\n",
    "    power = rmin * gmin * bmin\n",
    "\n",
    "    return rmin, gmin, bmin, power\n",
    "\n",
    "\n",
    "with open('input.txt', 'r') as file:\n",
    "    games = parseInput(file)\n",
    "    cubeSets = [findMinCubeSet(v) for k,v in games.items()]\n",
    "    solution = sum([i[3] for i in cubeSets])\n",
    "    print(f'The sum of the power of the minimum set of cubes needed is {solution}')"
   ]
  },
  {
   "cell_type": "code",
   "execution_count": null,
   "id": "2f55b5f2-f3cf-4ebc-993f-a69d97bd1701",
   "metadata": {},
   "outputs": [],
   "source": []
  }
 ],
 "metadata": {
  "kernelspec": {
   "display_name": "Python 3 (ipykernel)",
   "language": "python",
   "name": "python3"
  },
  "language_info": {
   "codemirror_mode": {
    "name": "ipython",
    "version": 3
   },
   "file_extension": ".py",
   "mimetype": "text/x-python",
   "name": "python",
   "nbconvert_exporter": "python",
   "pygments_lexer": "ipython3",
   "version": "3.11.6"
  }
 },
 "nbformat": 4,
 "nbformat_minor": 5
}
